{
 "cells": [
  {
   "cell_type": "code",
   "execution_count": 5,
   "metadata": {},
   "outputs": [],
   "source": [
    "# Imported the dataset\n",
    "from datasets import load_dataset\n",
    "dataset = load_dataset(\"ai4privacy/pii-masking-300k\")"
   ]
  },
  {
   "cell_type": "code",
   "execution_count": 3,
   "metadata": {},
   "outputs": [
    {
     "name": "stdout",
     "output_type": "stream",
     "text": [
      "<class 'datasets.dataset_dict.DatasetDict'>\n",
      "{'train': (177677, 9), 'validation': (47728, 9)}\n"
     ]
    }
   ],
   "source": [
    "# Inspect the dataset\n",
    "print(type(dataset))\n",
    "print(dataset.shape)"
   ]
  },
  {
   "cell_type": "code",
   "execution_count": 7,
   "metadata": {},
   "outputs": [],
   "source": [
    "# Split the dataset into two datasets\n",
    "train = dataset['train']  \n",
    "validation = dataset['validation']"
   ]
  },
  {
   "cell_type": "code",
   "execution_count": 24,
   "metadata": {},
   "outputs": [
    {
     "data": {
      "text/plain": [
       "datasets.arrow_dataset.Dataset"
      ]
     },
     "execution_count": 24,
     "metadata": {},
     "output_type": "execute_result"
    }
   ],
   "source": [
    "# Check what type is 'train'\n",
    "type(train)"
   ]
  },
  {
   "cell_type": "code",
   "execution_count": 13,
   "metadata": {},
   "outputs": [],
   "source": [
    "# Convert the 'train' dataset to a dataframe\n",
    "train_df = train.to_pandas()"
   ]
  },
  {
   "cell_type": "code",
   "execution_count": 26,
   "metadata": {},
   "outputs": [
    {
     "data": {
      "text/plain": [
       "pandas.core.frame.DataFrame"
      ]
     },
     "execution_count": 26,
     "metadata": {},
     "output_type": "execute_result"
    }
   ],
   "source": [
    "# Check if train_df is a df\n",
    "type(train_df)"
   ]
  },
  {
   "cell_type": "code",
   "execution_count": 21,
   "metadata": {},
   "outputs": [
    {
     "data": {
      "text/html": [
       "<div>\n",
       "<style scoped>\n",
       "    .dataframe tbody tr th:only-of-type {\n",
       "        vertical-align: middle;\n",
       "    }\n",
       "\n",
       "    .dataframe tbody tr th {\n",
       "        vertical-align: top;\n",
       "    }\n",
       "\n",
       "    .dataframe thead th {\n",
       "        text-align: right;\n",
       "    }\n",
       "</style>\n",
       "<table border=\"1\" class=\"dataframe\">\n",
       "  <thead>\n",
       "    <tr style=\"text-align: right;\">\n",
       "      <th></th>\n",
       "      <th>source_text</th>\n",
       "      <th>target_text</th>\n",
       "      <th>privacy_mask</th>\n",
       "      <th>span_labels</th>\n",
       "      <th>mbert_text_tokens</th>\n",
       "      <th>mbert_bio_labels</th>\n",
       "      <th>id</th>\n",
       "      <th>language</th>\n",
       "      <th>set</th>\n",
       "    </tr>\n",
       "  </thead>\n",
       "  <tbody>\n",
       "    <tr>\n",
       "      <th>0</th>\n",
       "      <td>Subject: Group Messaging for Admissions Proces...</td>\n",
       "      <td>Subject: Group Messaging for Admissions Proces...</td>\n",
       "      <td>[{'value': 'wynqvrh053', 'start': 287, 'end': ...</td>\n",
       "      <td>[[440, 453, \"USERNAME\"], [430, 437, \"TIME\"], [...</td>\n",
       "      <td>[Sub, ##ject, :, Group, Mess, ##aging, for, Ad...</td>\n",
       "      <td>[O, O, O, O, O, O, O, O, O, O, O, O, O, O, O, ...</td>\n",
       "      <td>40767A</td>\n",
       "      <td>English</td>\n",
       "      <td>train</td>\n",
       "    </tr>\n",
       "    <tr>\n",
       "      <th>1</th>\n",
       "      <td>- Meeting at 2:33 PM\\n- N23 - Meeting at 11:29...</td>\n",
       "      <td>- Meeting at [TIME]\\n- [USERNAME] - Meeting at...</td>\n",
       "      <td>[{'value': '2:33 PM', 'start': 13, 'end': 20, ...</td>\n",
       "      <td>[[74, 81, \"TIME\"], [50, 60, \"USERNAME\"], [40, ...</td>\n",
       "      <td>[-, Meeting, at, 2, :, 33, PM, -, N, ##23, -, ...</td>\n",
       "      <td>[O, O, O, B-TIME, I-TIME, I-TIME, I-TIME, O, O...</td>\n",
       "      <td>40767B</td>\n",
       "      <td>English</td>\n",
       "      <td>train</td>\n",
       "    </tr>\n",
       "    <tr>\n",
       "      <th>2</th>\n",
       "      <td>Subject: Admission Notification - Great Britai...</td>\n",
       "      <td>Subject: Admission Notification - Great Britai...</td>\n",
       "      <td>[{'value': '5:24am', 'start': 263, 'end': 269,...</td>\n",
       "      <td>[[395, 407, \"SOCIALNUMBER\"], [358, 375, \"EMAIL...</td>\n",
       "      <td>[Sub, ##ject, :, Ad, ##mission, Not, ##ificati...</td>\n",
       "      <td>[O, O, O, O, O, O, O, O, O, O, O, O, O, O, O, ...</td>\n",
       "      <td>40768A</td>\n",
       "      <td>English</td>\n",
       "      <td>train</td>\n",
       "    </tr>\n",
       "    <tr>\n",
       "      <th>3</th>\n",
       "      <td>Card: KB90324ER\\n   Country: GB\\n   Building: ...</td>\n",
       "      <td>Card: [IDCARD]\\n   Country: [COUNTRY]\\n   Buil...</td>\n",
       "      <td>[{'value': 'KB90324ER', 'start': 6, 'end': 15,...</td>\n",
       "      <td>[[390, 393, \"STATE\"], [368, 378, \"CITY\"], [346...</td>\n",
       "      <td>[Card, :, KB, ##90, ##32, ##4, ##ER, \\, n, Cou...</td>\n",
       "      <td>[O, O, B-IDCARD, I-IDCARD, I-IDCARD, I-IDCARD,...</td>\n",
       "      <td>40768B</td>\n",
       "      <td>English</td>\n",
       "      <td>train</td>\n",
       "    </tr>\n",
       "    <tr>\n",
       "      <th>4</th>\n",
       "      <td>N, WA14 5RW\\n   Password: r]iD1#8\\n\\n...and so...</td>\n",
       "      <td>N, WA14 5RW\\n   Password: [PASS]\\n\\n...and so ...</td>\n",
       "      <td>[{'value': 'r]iD1#8', 'start': 26, 'end': 33, ...</td>\n",
       "      <td>[[336, 352, \"DATE\"], [26, 33, \"PASS\"]]</td>\n",
       "      <td>[N, ,, W, ##A, ##14, 5, ##R, ##W, \\, n, Pass, ...</td>\n",
       "      <td>[O, O, O, O, O, O, O, O, O, O, O, O, O, B-PASS...</td>\n",
       "      <td>40768C</td>\n",
       "      <td>English</td>\n",
       "      <td>train</td>\n",
       "    </tr>\n",
       "    <tr>\n",
       "      <th>5</th>\n",
       "      <td>Subject: Admission Application Attachments Con...</td>\n",
       "      <td>Subject: Admission Application Attachments Con...</td>\n",
       "      <td>[{'value': '301025226', 'start': 311, 'end': 3...</td>\n",
       "      <td>[[311, 320, \"PASSPORT\"]]</td>\n",
       "      <td>[Sub, ##ject, :, Ad, ##mission, Application, A...</td>\n",
       "      <td>[O, O, O, O, O, O, O, O, O, O, O, O, O, O, O, ...</td>\n",
       "      <td>40769A</td>\n",
       "      <td>English</td>\n",
       "      <td>train</td>\n",
       "    </tr>\n",
       "    <tr>\n",
       "      <th>6</th>\n",
       "      <td>981\\n- Social Security Number: 554.575.9355\\n-...</td>\n",
       "      <td>981\\n- Social Security Number: [SOCIALNUMBER]\\...</td>\n",
       "      <td>[{'value': '554.575.9355', 'start': 30, 'end':...</td>\n",
       "      <td>[[263, 279, \"TEL\"], [226, 249, \"EMAIL\"], [206,...</td>\n",
       "      <td>[981, -, Social, Security, Number, :, 554, ., ...</td>\n",
       "      <td>[O, O, O, O, O, O, O, O, B-SOCIALNUMBER, I-SOC...</td>\n",
       "      <td>40769B</td>\n",
       "      <td>English</td>\n",
       "      <td>train</td>\n",
       "    </tr>\n",
       "    <tr>\n",
       "      <th>7</th>\n",
       "      <td>s carefully and inform us immediately if there...</td>\n",
       "      <td>s carefully and inform us immediately if there...</td>\n",
       "      <td>[{'value': 'Rue des Écoles', 'start': 320, 'en...</td>\n",
       "      <td>[[342, 354, \"DATE\"], [338, 340, \"TIME\"], [320,...</td>\n",
       "      <td>[s, care, ##fully, and, info, ##rm, us, immedi...</td>\n",
       "      <td>[O, O, O, O, O, O, O, O, O, O, O, O, O, O, O, ...</td>\n",
       "      <td>40769C</td>\n",
       "      <td>English</td>\n",
       "      <td>train</td>\n",
       "    </tr>\n",
       "    <tr>\n",
       "      <th>8</th>\n",
       "      <td>- id_1:\\n  Feb 8, 1986\\n  iloweintögl\\n  4929-...</td>\n",
       "      <td>- id_1:\\n  [BOD]\\n  [USERNAME]\\n  [TEL]\\n  Det...</td>\n",
       "      <td>[{'value': 'Feb 8, 1986', 'start': 10, 'end': ...</td>\n",
       "      <td>[[287, 300, \"TEL\"], [280, 284, \"USERNAME\"], [2...</td>\n",
       "      <td>[-, id, _, 1, :, Feb, 8, ,, 1986, il, ##owe, #...</td>\n",
       "      <td>[O, O, O, O, O, O, B-BOD, I-BOD, I-BOD, I-BOD,...</td>\n",
       "      <td>40772A</td>\n",
       "      <td>English</td>\n",
       "      <td>train</td>\n",
       "    </tr>\n",
       "    <tr>\n",
       "      <th>9</th>\n",
       "      <td>y involved in community service initiatives.\\n...</td>\n",
       "      <td>y involved in community service initiatives.\\n...</td>\n",
       "      <td>[{'value': 'Apr 29, 1973', 'start': 55, 'end':...</td>\n",
       "      <td>[[339, 355, \"TEL\"], [314, 336, \"USERNAME\"], [2...</td>\n",
       "      <td>[y, involved, in, community, service, initiati...</td>\n",
       "      <td>[O, O, O, O, O, O, O, O, O, O, O, O, O, B-BOD,...</td>\n",
       "      <td>40772B</td>\n",
       "      <td>English</td>\n",
       "      <td>train</td>\n",
       "    </tr>\n",
       "  </tbody>\n",
       "</table>\n",
       "</div>"
      ],
      "text/plain": [
       "                                         source_text  \\\n",
       "0  Subject: Group Messaging for Admissions Proces...   \n",
       "1  - Meeting at 2:33 PM\\n- N23 - Meeting at 11:29...   \n",
       "2  Subject: Admission Notification - Great Britai...   \n",
       "3  Card: KB90324ER\\n   Country: GB\\n   Building: ...   \n",
       "4  N, WA14 5RW\\n   Password: r]iD1#8\\n\\n...and so...   \n",
       "5  Subject: Admission Application Attachments Con...   \n",
       "6  981\\n- Social Security Number: 554.575.9355\\n-...   \n",
       "7  s carefully and inform us immediately if there...   \n",
       "8  - id_1:\\n  Feb 8, 1986\\n  iloweintögl\\n  4929-...   \n",
       "9  y involved in community service initiatives.\\n...   \n",
       "\n",
       "                                         target_text  \\\n",
       "0  Subject: Group Messaging for Admissions Proces...   \n",
       "1  - Meeting at [TIME]\\n- [USERNAME] - Meeting at...   \n",
       "2  Subject: Admission Notification - Great Britai...   \n",
       "3  Card: [IDCARD]\\n   Country: [COUNTRY]\\n   Buil...   \n",
       "4  N, WA14 5RW\\n   Password: [PASS]\\n\\n...and so ...   \n",
       "5  Subject: Admission Application Attachments Con...   \n",
       "6  981\\n- Social Security Number: [SOCIALNUMBER]\\...   \n",
       "7  s carefully and inform us immediately if there...   \n",
       "8  - id_1:\\n  [BOD]\\n  [USERNAME]\\n  [TEL]\\n  Det...   \n",
       "9  y involved in community service initiatives.\\n...   \n",
       "\n",
       "                                        privacy_mask  \\\n",
       "0  [{'value': 'wynqvrh053', 'start': 287, 'end': ...   \n",
       "1  [{'value': '2:33 PM', 'start': 13, 'end': 20, ...   \n",
       "2  [{'value': '5:24am', 'start': 263, 'end': 269,...   \n",
       "3  [{'value': 'KB90324ER', 'start': 6, 'end': 15,...   \n",
       "4  [{'value': 'r]iD1#8', 'start': 26, 'end': 33, ...   \n",
       "5  [{'value': '301025226', 'start': 311, 'end': 3...   \n",
       "6  [{'value': '554.575.9355', 'start': 30, 'end':...   \n",
       "7  [{'value': 'Rue des Écoles', 'start': 320, 'en...   \n",
       "8  [{'value': 'Feb 8, 1986', 'start': 10, 'end': ...   \n",
       "9  [{'value': 'Apr 29, 1973', 'start': 55, 'end':...   \n",
       "\n",
       "                                         span_labels  \\\n",
       "0  [[440, 453, \"USERNAME\"], [430, 437, \"TIME\"], [...   \n",
       "1  [[74, 81, \"TIME\"], [50, 60, \"USERNAME\"], [40, ...   \n",
       "2  [[395, 407, \"SOCIALNUMBER\"], [358, 375, \"EMAIL...   \n",
       "3  [[390, 393, \"STATE\"], [368, 378, \"CITY\"], [346...   \n",
       "4             [[336, 352, \"DATE\"], [26, 33, \"PASS\"]]   \n",
       "5                           [[311, 320, \"PASSPORT\"]]   \n",
       "6  [[263, 279, \"TEL\"], [226, 249, \"EMAIL\"], [206,...   \n",
       "7  [[342, 354, \"DATE\"], [338, 340, \"TIME\"], [320,...   \n",
       "8  [[287, 300, \"TEL\"], [280, 284, \"USERNAME\"], [2...   \n",
       "9  [[339, 355, \"TEL\"], [314, 336, \"USERNAME\"], [2...   \n",
       "\n",
       "                                   mbert_text_tokens  \\\n",
       "0  [Sub, ##ject, :, Group, Mess, ##aging, for, Ad...   \n",
       "1  [-, Meeting, at, 2, :, 33, PM, -, N, ##23, -, ...   \n",
       "2  [Sub, ##ject, :, Ad, ##mission, Not, ##ificati...   \n",
       "3  [Card, :, KB, ##90, ##32, ##4, ##ER, \\, n, Cou...   \n",
       "4  [N, ,, W, ##A, ##14, 5, ##R, ##W, \\, n, Pass, ...   \n",
       "5  [Sub, ##ject, :, Ad, ##mission, Application, A...   \n",
       "6  [981, -, Social, Security, Number, :, 554, ., ...   \n",
       "7  [s, care, ##fully, and, info, ##rm, us, immedi...   \n",
       "8  [-, id, _, 1, :, Feb, 8, ,, 1986, il, ##owe, #...   \n",
       "9  [y, involved, in, community, service, initiati...   \n",
       "\n",
       "                                    mbert_bio_labels      id language    set  \n",
       "0  [O, O, O, O, O, O, O, O, O, O, O, O, O, O, O, ...  40767A  English  train  \n",
       "1  [O, O, O, B-TIME, I-TIME, I-TIME, I-TIME, O, O...  40767B  English  train  \n",
       "2  [O, O, O, O, O, O, O, O, O, O, O, O, O, O, O, ...  40768A  English  train  \n",
       "3  [O, O, B-IDCARD, I-IDCARD, I-IDCARD, I-IDCARD,...  40768B  English  train  \n",
       "4  [O, O, O, O, O, O, O, O, O, O, O, O, O, B-PASS...  40768C  English  train  \n",
       "5  [O, O, O, O, O, O, O, O, O, O, O, O, O, O, O, ...  40769A  English  train  \n",
       "6  [O, O, O, O, O, O, O, O, B-SOCIALNUMBER, I-SOC...  40769B  English  train  \n",
       "7  [O, O, O, O, O, O, O, O, O, O, O, O, O, O, O, ...  40769C  English  train  \n",
       "8  [O, O, O, O, O, O, B-BOD, I-BOD, I-BOD, I-BOD,...  40772A  English  train  \n",
       "9  [O, O, O, O, O, O, O, O, O, O, O, O, O, B-BOD,...  40772B  English  train  "
      ]
     },
     "execution_count": 21,
     "metadata": {},
     "output_type": "execute_result"
    }
   ],
   "source": [
    "# Inspect the df\n",
    "train_df.head(10)"
   ]
  },
  {
   "cell_type": "markdown",
   "metadata": {},
   "source": [
    "Check your assigned rows: \n",
    "76,501-76,520 - Ayan\n",
    "76,521-76,540 - Joy\n",
    "76,541-76,560 - Shrieyaa\n",
    "76,561-76,580 - Shubhangi\n",
    "76,581-76,600 - Stella"
   ]
  },
  {
   "cell_type": "code",
   "execution_count": 25,
   "metadata": {},
   "outputs": [
    {
     "name": "stdout",
     "output_type": "stream",
     "text": [
      "Chère Madame [*Femme*] Jacqueline Dabtih,\n",
      "\n",
      "Nous avons le plaisir de vous informer de votre acceptation dans le programme de mobilité éducative. Votre date de naissance, le [*14/09/1981*], correspond à nos critères d'admissibilité. Votre adresse e-mail, [*jaclyn.dabtih@gmail.com*], a été enre\n"
     ]
    },
    {
     "data": {
      "text/plain": [
       "\"Chère Madame [*[SEX]*] Jacqueline Dabtih,\\n\\nNous avons le plaisir de vous informer de votre acceptation dans le programme de mobilité éducative. Votre date de naissance, le [*[BOD]*], correspond à nos critères d'admissibilité. Votre adresse e-mail, [*[EMAIL]*], a été enre\""
      ]
     },
     "execution_count": 25,
     "metadata": {},
     "output_type": "execute_result"
    }
   ],
   "source": [
    "print(train_df.iloc[76586]['source_text']) # failed to redact name\n",
    "train_df.iloc[76586]['target_text']"
   ]
  },
  {
   "cell_type": "code",
   "execution_count": 29,
   "metadata": {},
   "outputs": [
    {
     "name": "stdout",
     "output_type": "stream",
     "text": [
      "ons médicales particulières : ...\n",
      "Allergies connues : ...\n",
      "Traitement médical en cours : ...\n",
      "Personne à contacter en cas d'urgence : ...\n",
      "Numéro de téléphone de la personne à contacter : ...\n",
      "\n",
      "Date : ...01:40...\n",
      "Signé(e) par l'étudiant(e) : ______\n",
      "Signé(e) par le médecin : ______\n"
     ]
    },
    {
     "data": {
      "text/plain": [
       "\"ons médicales particulières : ...\\nAllergies connues : ...\\nTraitement médical en cours : ...\\nPersonne à contacter en cas d'urgence : ...\\nNuméro de téléphone de la personne à contacter : ...\\n\\nDate : ...[TIME]...\\nSigné(e) par l'étudiant(e) : ______\\nSigné(e) par le médecin : ______\""
      ]
     },
     "execution_count": 29,
     "metadata": {},
     "output_type": "execute_result"
    }
   ],
   "source": [
    "print(train_df.iloc[76589]['source_text']) # seems like source data has already redacted medically sensitive PII\n",
    "train_df.iloc[76589]['target_text']"
   ]
  },
  {
   "cell_type": "code",
   "execution_count": 30,
   "metadata": {},
   "outputs": [
    {
     "name": "stdout",
     "output_type": "stream",
     "text": [
      "\"In the language proficiency assessment for the mobility program placement, we have assessed the students' abilities in French for their study in Switzerland. Among the students, we have:\n",
      "\n",
      "- 1993sravanthi.cacciari@aol.com\n",
      "- 083281153\n",
      "- Z0ZEQQCS3VJX\n",
      "- +31-419-177-8378\n",
      "- B9{z9MA2f\n",
      "- 15:14\n",
      "- Cacciari\n",
      "\n",
      "- 19ercolibertino@\n"
     ]
    },
    {
     "data": {
      "text/plain": [
       "'\"In the language proficiency assessment for the mobility program placement, we have assessed the students\\' abilities in French for their study in Switzerland. Among the students, we have:\\n\\n- [EMAIL]\\n- [SOCIALNUMBER]\\n- [DRIVERLICENSE]\\n- [TEL]\\n- [PASS]\\n- [TIME]\\n- [LASTNAME1]\\n\\n- 19ercolibertino@'"
      ]
     },
     "execution_count": 30,
     "metadata": {},
     "output_type": "execute_result"
    }
   ],
   "source": [
    "print(train_df.iloc[76590]['source_text']) # 19ercolibertino@ seems to be username/has info that could hint at user's name\n",
    "train_df.iloc[76590]['target_text']"
   ]
  },
  {
   "cell_type": "code",
   "execution_count": 35,
   "metadata": {},
   "outputs": [
    {
     "name": "stdout",
     "output_type": "stream",
     "text": [
      "          <PhoneNumber>027.282.4871</PhoneNumber>\n",
      "            <IPAddress>179.223.74.253</IPAddress>\n",
      "        </Contact>\n",
      "    </Student>\n",
      "    <Student>\n",
      "        <ID>756.3401.9637.90</ID>\n",
      "        <Contact>\n",
      "            <PhoneNumber>+41.31.556.4814</PhoneNumber>\n",
      "            <IPAddress>25.117.34.243</IPAddress>\n",
      "        </Contact>\n",
      "    </Student>\n",
      "    <Student>\n",
      "        <ID>756.3540.9299.86</ID>\n",
      "        <Contact>\n",
      "            <PhoneNumber>+04 53-182 6121</PhoneNumber>\n",
      "            <IPAddress>d504:519f:69b2:9f5\n"
     ]
    },
    {
     "data": {
      "text/plain": [
       "'          <PhoneNumber>[TEL]</PhoneNumber>\\n            <IPAddress>[IP]</IPAddress>\\n        </Contact>\\n    </Student>\\n    <Student>\\n        <ID>[SOCIALNUMBER]</ID>\\n        <Contact>\\n            <PhoneNumber>[TEL]</PhoneNumber>\\n            <IPAddress>[IP]</IPAddress>\\n        </Contact>\\n    </Student>\\n    <Student>\\n        <ID>[SOCIALNUMBER]</ID>\\n        <Contact>\\n            <PhoneNumber>[TEL]</PhoneNumber>\\n            <IPAddress>d504:519f:69b2:9f5'"
      ]
     },
     "execution_count": 35,
     "metadata": {},
     "output_type": "execute_result"
    }
   ],
   "source": [
    "print(train_df.iloc[76594]['source_text']) # failed to eliminate IP address\n",
    "train_df.iloc[76594]['target_text']"
   ]
  },
  {
   "cell_type": "code",
   "execution_count": 36,
   "metadata": {},
   "outputs": [
    {
     "name": "stdout",
     "output_type": "stream",
     "text": [
      "1:faa7:eac4:c134:76cd</IPAddress>\n",
      "        </Contact>\n",
      "    </Student>\n",
      "    <Student>\n",
      "        <ID>756.6725.3019.63</ID>\n",
      "        <Contact>\n",
      "            <PhoneNumber>4385.869 7886</PhoneNumber>\n",
      "            <IPAddress>130.225.23.84</IPAddress>\n",
      "        </Contact>\n",
      "    </Student>\n",
      "    <Student>\n",
      "        <ID>756.3318.9394.52</ID>\n",
      "        <Contact>\n",
      "            <PhoneNumber>+66-92-525.3066</PhoneNumber>\n",
      "            <IPAddress>109.5.62.92</IPAddress>\n",
      "        </Contact>\n",
      "    </Student>\n",
      "</Student_Risk_Assessment>\n"
     ]
    },
    {
     "data": {
      "text/plain": [
       "'1:faa7:eac4:c134:76cd</IPAddress>\\n        </Contact>\\n    </Student>\\n    <Student>\\n        <ID>[SOCIALNUMBER]</ID>\\n        <Contact>\\n            <PhoneNumber>[TEL]</PhoneNumber>\\n            <IPAddress>[IP]</IPAddress>\\n        </Contact>\\n    </Student>\\n    <Student>\\n        <ID>[SOCIALNUMBER]</ID>\\n        <Contact>\\n            <PhoneNumber>[TEL]</PhoneNumber>\\n            <IPAddress>[IP]</IPAddress>\\n        </Contact>\\n    </Student>\\n</Student_Risk_Assessment>'"
      ]
     },
     "execution_count": 36,
     "metadata": {},
     "output_type": "execute_result"
    }
   ],
   "source": [
    "print(train_df.iloc[76595]['source_text']) # another failure to eliminate IP address\n",
    "train_df.iloc[76595]['target_text']"
   ]
  },
  {
   "cell_type": "code",
   "execution_count": 41,
   "metadata": {},
   "outputs": [
    {
     "name": "stdout",
     "output_type": "stream",
     "text": [
      "717897\n",
      "- **IP Address:** 160.239.205.64\n",
      "- **Time:** 7:04\n",
      "\n",
      "*Student 3:*\n",
      "- **Name:** Mademoiselle Hassania Kristyna Budd\n",
      "- **Username:** 17hassania\n",
      "- **Social Number:** 756.1813.0042.00\n",
      "- **ID Card:** F2384580\n",
      "- **IP Address:** 77.40.17.66\n",
      "- **Time:** 3h\n",
      "\n",
      "**Travel Details:**\n",
      "- **Location:** Switzerland\n",
      "- **Street:** Lochmattenweg\n",
      "- **Date:** 31/10/2043\n"
     ]
    },
    {
     "data": {
      "text/plain": [
       "'717897\\n- **IP Address:** [IP]\\n- **Time:** [TIME]\\n\\n*Student 3:*\\n- **Name:** [TITLE] [GIVENNAME1] [GIVENNAME2] [LASTNAME1]\\n- **Username:** [USERNAME]\\n- **Social Number:** [SOCIALNUMBER]\\n- **ID Card:** [IDCARD]\\n- **IP Address:** [IP]\\n- **Time:** [TIME]\\n\\n**Travel Details:**\\n- **Location:** Switzerland\\n- **Street:** [STREET]\\n- **Date:** 31/10/2043'"
      ]
     },
     "execution_count": 41,
     "metadata": {},
     "output_type": "execute_result"
    }
   ],
   "source": [
    "print(train_df.iloc[76600]['source_text']) # failed to eliminate country, date\n",
    "train_df.iloc[76600]['target_text']"
   ]
  }
 ],
 "metadata": {
  "kernelspec": {
   "display_name": "Python 3 (ipykernel)",
   "language": "python",
   "name": "python3"
  },
  "language_info": {
   "codemirror_mode": {
    "name": "ipython",
    "version": 3
   },
   "file_extension": ".py",
   "mimetype": "text/x-python",
   "name": "python",
   "nbconvert_exporter": "python",
   "pygments_lexer": "ipython3",
   "version": "3.12.1"
  }
 },
 "nbformat": 4,
 "nbformat_minor": 4
}
